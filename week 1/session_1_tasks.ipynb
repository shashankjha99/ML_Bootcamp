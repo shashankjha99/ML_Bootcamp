{
  "nbformat": 4,
  "nbformat_minor": 0,
  "metadata": {
    "colab": {
      "provenance": []
    },
    "kernelspec": {
      "name": "python3",
      "display_name": "Python 3"
    },
    "language_info": {
      "name": "python"
    }
  },
  "cells": [
    {
      "cell_type": "markdown",
      "source": [
        "# Task : Session 1\n",
        "Solve these questions own your own and try to test yourself what you have learned in the session.\n",
        "\n",
        "Happy Learning!"
      ],
      "metadata": {
        "id": "A05OG15VqOPF"
      }
    },
    {
      "cell_type": "markdown",
      "source": [
        "### Q1 :- Print the given strings as per stated format.\n",
        "\n",
        "**Given strings**:\n",
        "```\n",
        "\"Data\" \"Science\" \"Mentorship\" \"Program\"\n",
        "\"By\" \"CampusX\"\n",
        "```\n",
        "**Output**:\n",
        "```\n",
        "Data-Science-Mentorship-Program-started-By-CampusX\n",
        "```\n",
        "\n",
        "Concept- [Seperator and End]"
      ],
      "metadata": {
        "id": "2doIXf8bqe9_"
      }
    },
    {
      "cell_type": "code",
      "source": [
        "print(\"Data\", \"Science\", \"Mentorship\", \"Program\",\n",
        "\"By\" ,\"CampusX\",sep='-')"
      ],
      "metadata": {
        "id": "-em6d3KErDtp",
        "outputId": "add724c7-a9c0-4a9d-8b9f-9f6ab7db7e7e",
        "colab": {
          "base_uri": "https://localhost:8080/"
        }
      },
      "execution_count": 1,
      "outputs": [
        {
          "output_type": "stream",
          "name": "stdout",
          "text": [
            "Data-Science-Mentorship-Program-By-CampusX\n"
          ]
        }
      ]
    },
    {
      "cell_type": "markdown",
      "source": [
        "### Q2:- Write a program that will convert celsius value to fahrenheit."
      ],
      "metadata": {
        "id": "1KUpN7ZTrC3_"
      }
    },
    {
      "cell_type": "code",
      "source": [
        "c=int(input(\"enter celsius temp : \"))\n",
        "f=c*(9/5) + 32\n",
        "print(f)"
      ],
      "metadata": {
        "id": "yxKYhYQiqWfj",
        "outputId": "eaed7124-83be-4bf8-e4da-ace5f8c6db16",
        "colab": {
          "base_uri": "https://localhost:8080/"
        }
      },
      "execution_count": 4,
      "outputs": [
        {
          "output_type": "stream",
          "name": "stdout",
          "text": [
            "enter celsius temp : 23\n",
            "73.4\n"
          ]
        }
      ]
    },
    {
      "cell_type": "markdown",
      "source": [
        "### Q3:- Take 2 numbers as input from the user.Write a program to swap the numbers without using any special python syntax."
      ],
      "metadata": {
        "id": "RLrOBBJurLB2"
      }
    },
    {
      "cell_type": "code",
      "source": [
        "fnum=int(input(\"enter first number\"))\n",
        "snum=int(input(\"enter second number\"))\n",
        "print(fnum,snum)\n",
        "fnum,snum=snum,fnum\n",
        "print(fnum,snum)\n",
        "\n"
      ],
      "metadata": {
        "id": "yPn7if0TrJ4F",
        "outputId": "8948fba2-4a87-4052-db12-7478fd649f0f",
        "colab": {
          "base_uri": "https://localhost:8080/"
        }
      },
      "execution_count": 5,
      "outputs": [
        {
          "output_type": "stream",
          "name": "stdout",
          "text": [
            "enter first number23\n",
            "enter second number43\n",
            "23 43\n",
            "43 23\n"
          ]
        }
      ]
    },
    {
      "cell_type": "markdown",
      "source": [
        "### Q4:- Write a program to find the euclidean distance between two coordinates.Take both the coordinates from the user as input."
      ],
      "metadata": {
        "id": "waLCP1bjr7ML"
      }
    },
    {
      "cell_type": "code",
      "source": [
        "x1,y1 = list(map(lambda x:int(x) ,input(\"enter x1,y1 : \").split(\",\")))\n",
        "print(x1,y1)\n",
        "\n",
        "x2,y2 = list(map(lambda x:int(x) ,input(\"enter x2,y2 : \").split(\",\")))\n",
        "print(x2,y2)\n",
        "dist = ((x2-x1)**2 +(y2-y1)**2)**0.5\n",
        "print(\"the euclidean distance is : \",dist)"
      ],
      "metadata": {
        "id": "Pl1Sv-xnrxnH",
        "outputId": "4973e87e-c05a-443e-938f-bb4927d51e22",
        "colab": {
          "base_uri": "https://localhost:8080/"
        }
      },
      "execution_count": 7,
      "outputs": [
        {
          "output_type": "stream",
          "name": "stdout",
          "text": [
            "enter x1,y1 : 23,34\n",
            "23 34\n",
            "enter x2,y2 : 45,67\n",
            "45 67\n",
            "the euclidean distance is :  39.66106403010388\n"
          ]
        }
      ]
    },
    {
      "cell_type": "markdown",
      "source": [
        "### Q5:- Write a program to find the simple interest when the value of principle,rate of interest and time period is provided by the user.\n"
      ],
      "metadata": {
        "id": "VLrhg-FRsHjR"
      }
    },
    {
      "cell_type": "code",
      "source": [
        "p,r,t = list(map(int ,input(\"enter p, r, t :\").split(\",\")))\n",
        "\n",
        "print(p*r*t/100)"
      ],
      "metadata": {
        "id": "s40DlReZsTmY",
        "outputId": "9046316b-83fa-46fc-8b7d-4d3814816017",
        "colab": {
          "base_uri": "https://localhost:8080/"
        }
      },
      "execution_count": 9,
      "outputs": [
        {
          "output_type": "stream",
          "name": "stdout",
          "text": [
            "enter p, r, t :1000,2,3\n",
            "60.0\n"
          ]
        }
      ]
    },
    {
      "cell_type": "markdown",
      "source": [
        "### Q6:- Write a program that will tell the number of dogs and chicken are there when the user will provide the value of total heads and legs.\n",
        "\n",
        "For example:\n",
        "Input:\n",
        "heads -> 4\n",
        "legs -> 12\n",
        "<br>\n",
        "Output:\n",
        "dogs -> 2\n",
        "chicken -> 2\n",
        "\n",
        "\n",
        "\n"
      ],
      "metadata": {
        "id": "LMy0BTUktYKa"
      }
    },
    {
      "cell_type": "code",
      "source": [
        "heads = int(input(\"Enter the number of heads. :\"))\n",
        "legs = int(input(\"Enter the number of legs. :\"))\n",
        "\n",
        "dogs = (legs/2)-heads\n",
        "chickens = heads-dogs\n",
        "print(dogs,chickens)"
      ],
      "metadata": {
        "id": "XSBvJoA4tXaG",
        "outputId": "13e97c10-eb3e-4f2b-a711-6dfd97d7058f",
        "colab": {
          "base_uri": "https://localhost:8080/"
        }
      },
      "execution_count": 10,
      "outputs": [
        {
          "output_type": "stream",
          "name": "stdout",
          "text": [
            "Enter the number of heads. :4\n",
            "Enter the number of legs. :12\n",
            "2.0 2.0\n"
          ]
        }
      ]
    },
    {
      "cell_type": "markdown",
      "source": [
        "### Q7:- Write a program to find the sum of squares of first n natural numbers where n will be provided by the user."
      ],
      "metadata": {
        "id": "gJ7C5kZYt4BP"
      }
    },
    {
      "cell_type": "code",
      "source": [
        "n=int(input(\"Enter numbers : \"))\n",
        "s = n*(n+1)*(2*n +1)/6\n",
        "print(s)"
      ],
      "metadata": {
        "id": "_tHsmEHzt2nX",
        "outputId": "364322cb-2436-4528-9394-29d253b6b353",
        "colab": {
          "base_uri": "https://localhost:8080/"
        }
      },
      "execution_count": 11,
      "outputs": [
        {
          "output_type": "stream",
          "name": "stdout",
          "text": [
            "Enter numbers : 4\n",
            "30.0\n"
          ]
        }
      ]
    },
    {
      "cell_type": "markdown",
      "source": [
        "### Q8:- Given the first 2 terms of an Arithmetic Series.Find the Nth term of the series. Assume all inputs are provided by the user."
      ],
      "metadata": {
        "id": "FHrMM7g-yG1h"
      }
    },
    {
      "cell_type": "code",
      "source": [
        "f = int(input(\"first number : \"))\n",
        "s = int(input(\"second number : \"))\n",
        "n = int(input(\"nth term : \"))\n",
        "\n",
        "\n",
        "d=s-f\n",
        "\n",
        "t = f + (n-1)*d\n",
        "\n",
        "print(t)\n"
      ],
      "metadata": {
        "id": "go4_kmZmyVSx",
        "outputId": "fba9d2ba-7bf1-4ee0-8f6a-1df4042b83fc",
        "colab": {
          "base_uri": "https://localhost:8080/"
        }
      },
      "execution_count": 12,
      "outputs": [
        {
          "output_type": "stream",
          "name": "stdout",
          "text": [
            "first number : 2\n",
            "second number : 3\n",
            "nth term : 10\n",
            "11\n"
          ]
        }
      ]
    },
    {
      "cell_type": "markdown",
      "source": [
        "### Q9:- Given 2 fractions, find the sum of those 2 fractions.Take the numerator and denominator values of the fractions from the user."
      ],
      "metadata": {
        "id": "QgyRX_es1oum"
      }
    },
    {
      "cell_type": "code",
      "source": [],
      "metadata": {
        "id": "X05xqFS1yW16"
      },
      "execution_count": null,
      "outputs": []
    },
    {
      "cell_type": "markdown",
      "source": [
        "### Q10:- Given the height, width and breadth of a milk tank, you have to find out how many glasses of milk can be obtained? Assume all the inputs are provided by the user.\n",
        "\n",
        "\n",
        "\n",
        "Input:<br>\n",
        "Dimensions of the milk tank<br>\n",
        "H = 20cm, L = 20cm, B = 20cm\n",
        "<br><br>\n",
        "Dimensions of the glass<br>\n",
        "h = 3cm, r = 1cm"
      ],
      "metadata": {
        "id": "eaql38ln13u7"
      }
    },
    {
      "cell_type": "code",
      "source": [
        "from math import pi\n",
        "\n",
        "h,l,b = list(map(int ,input(\"enter h,l,b :\").split(\",\")))\n",
        "\n",
        "ph,pr = list(map(int ,input(\"enter ph,pr :\").split(\",\")))\n",
        "\n",
        "vol_tank = h*l*b\n",
        "vol_glass = pi*(pr**2)*ph\n",
        "print(\"number of glasses : \",vol_tank,vol_glass ,vol_tank/vol_glass)"
      ],
      "metadata": {
        "id": "FePZqno74eWv",
        "outputId": "a9ea7c0d-d8f1-4422-f1e6-b1f35a1080e0",
        "colab": {
          "base_uri": "https://localhost:8080/"
        }
      },
      "execution_count": 14,
      "outputs": [
        {
          "output_type": "stream",
          "name": "stdout",
          "text": [
            "enter h,l,b :20,20,20\n",
            "enter ph,pr :3,1\n",
            "number of glasses :  8000 9.42477796076938 848.8263631567752\n"
          ]
        }
      ]
    },
    {
      "cell_type": "code",
      "source": [],
      "metadata": {
        "id": "6mU0XiZoK9DW"
      },
      "execution_count": null,
      "outputs": []
    }
  ]
}