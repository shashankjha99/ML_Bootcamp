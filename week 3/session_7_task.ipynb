{
  "cells": [
    {
      "cell_type": "markdown",
      "metadata": {
        "id": "FyUJ3PRAsPr4"
      },
      "source": [
        "##`Q-1:` Rectangle Class\n",
        "1. Write a Rectangle class in Python language, allowing you to build a rectangle with length and width attributes.\n",
        "\n",
        "2. Create a Perimeter() method to calculate the perimeter of the rectangle and a Area() method to calculate the area of ​​the rectangle.\n",
        "\n",
        "3. Create a method display() that display the length, width, perimeter and area of an object created using an instantiation on rectangle class."
      ]
    },
    {
      "cell_type": "markdown",
      "metadata": {
        "id": "GxUtOqJfssFK"
      },
      "source": [
        "Eg.\n",
        "After making above classes and methods, on executing below code:-\n",
        "```\n",
        "my_rectangle = Rectangle(3 , 4)\n",
        "my_rectangle.display()\n",
        "```\n",
        "\n",
        "`Output:`\n",
        "```\n",
        "The length of rectangle is:  3\n",
        "The width of rectangle is:  4\n",
        "The perimeter of rectangle is:  14\n",
        "The area of rectangle is:  12\n",
        "```\n"
      ]
    },
    {
      "cell_type": "code",
      "execution_count": 2,
      "metadata": {
        "id": "92_QT-Uj6NBg"
      },
      "outputs": [],
      "source": [
        "class Rectangle:\n",
        "\n",
        "  def __init__(self,l,b):\n",
        "    self.length = l\n",
        "    self.breadth = b\n",
        "\n",
        "  def display(self):\n",
        "    print(\n",
        "    f\"\"\"The length of rectangle is:  {self.length}\n",
        "The width of rectangle is:  {self.breadth}\n",
        "The perimeter of rectangle is:  {(self.length+self.breadth)*2}\n",
        "The area of rectangle is:  {self.length*self.breadth}\"\"\")"
      ]
    },
    {
      "cell_type": "code",
      "execution_count": 3,
      "metadata": {},
      "outputs": [
        {
          "name": "stdout",
          "output_type": "stream",
          "text": [
            "The length of rectangle is:  3\n",
            "The width of rectangle is:  4\n",
            "The perimeter of rectangle is:  14\n",
            "The area of rectangle is:  12\n"
          ]
        }
      ],
      "source": [
        "my_rectangle = Rectangle(3 , 4)\n",
        "my_rectangle.display()"
      ]
    },
    {
      "cell_type": "markdown",
      "metadata": {
        "id": "r_GxrS0Vrdom"
      },
      "source": [
        "##`Q-2: Bank Class`\n",
        "\n",
        "1. Create a Python class called `BankAccount` which represents a bank account, having as attributes: `accountNumber` (numeric type), `name` (name of the account owner as string type), `balance`.\n",
        "2. Create a constructor with parameters: `accountNumber, name, balance`.\n",
        "3. Create a `Deposit()` method which manages the deposit actions.\n",
        "4. Create a `Withdrawal()` method  which manages withdrawals actions.\n",
        "5. Create an `bankFees()` method to apply the bank fees with a percentage of 5% of the balance account.\n",
        "6. Create a `display()` method to display account details.\n",
        "Give the complete code for the  BankAccount class."
      ]
    },
    {
      "cell_type": "markdown",
      "metadata": {
        "id": "qvVkOUJgvTV_"
      },
      "source": [
        "Eg.\n",
        "After making above classes and methods, on executing below code:-\n",
        "```\n",
        "newAccount = BankAccount(2178514584, \"Mandy\" , 2800)\n",
        "\n",
        "newAccount.Withdrawal(700)\n",
        "\n",
        "newAccount.Deposit(1000)\n",
        "\n",
        "newAccount.display()\n",
        "```\n",
        "\n",
        "`Output:`\n",
        "```\n",
        "Account Number :  2178514584\n",
        "Account Name :  Mandy\n",
        "Account Balance :  3100 ₹\n",
        "```"
      ]
    },
    {
      "cell_type": "code",
      "execution_count": 4,
      "metadata": {
        "id": "fUQOmQyA6YDR"
      },
      "outputs": [
        {
          "name": "stdout",
          "output_type": "stream",
          "text": [
            "Account Number :  2178514584\n",
            "Account Name :  Mandy\n",
            "Account Balance :  3100 ₹ \n"
          ]
        }
      ],
      "source": [
        "class BankAccount:\n",
        "\n",
        "  def __init__(self,accountNumber, name , balance):\n",
        "    self.accountNumber=accountNumber\n",
        "    self.name=name\n",
        "    self.balance=balance\n",
        "\n",
        "  def Withdrawal(self,amt):\n",
        "    if self.balance>=amt:\n",
        "      self.balance=self.balance-amt\n",
        "\n",
        "  def Deposit(self,amt):\n",
        "    self.balance=self.balance+amt\n",
        "\n",
        "  def bankFees(self):\n",
        "    return self.balance*.05\n",
        "\n",
        "  def display(self):\n",
        "    return f\"\"\"Account Number :  {self.accountNumber}\n",
        "Account Name :  {self.name}\n",
        "Account Balance :  {self.balance} ₹ \"\"\"\n",
        "\n",
        "\n",
        "newAccount = BankAccount(2178514584, \"Mandy\" , 2800)\n",
        "\n",
        "newAccount.Withdrawal(700)\n",
        "\n",
        "newAccount.Deposit(1000)\n",
        "\n",
        "print(newAccount.display())"
      ]
    },
    {
      "cell_type": "markdown",
      "metadata": {
        "id": "QovcQAZTrgGU"
      },
      "source": [
        "##`Q-3:Computation class`\n",
        "\n",
        "1. Create a `Computation` class with a default constructor (without parameters) allowing to perform various calculations on integers numbers.\n",
        "2. Create a method called `Factorial()` which allows to calculate the factorial of an integer n. Integer n as parameter for this method\n",
        "\n",
        "3. Create a method called `naturalSum()` allowing to calculate the sum of the first n integers 1 + 2 + 3 + .. + n. Integer n as parameter for this method.\n",
        "\n",
        "4. Create a method called `testPrime()` in  the Calculation class to test the primality of a given integer n, n is Prime or Not? Integer n as parameter for this method.\n",
        "\n",
        "5. Create  a method called `testPrims()` allowing to test if two numbers are prime between them. Two integers are prime to one another if they have only `1` as their common divisor. Eg. 4 and 9 are prime to each other.\n",
        "\n",
        "5. Create a `tableMult()` method which creates and displays the multiplication table of a given integer. Then create an `allTablesMult()` method to display all the integer multiplication tables 1, 2, 3, ..., 9.\n",
        "\n",
        "6. Create a static `listDiv()` method that gets all the divisors of a given integer on new list called  Ldiv. Create another `listDivPrim()` method that gets all the prime divisors of a given integer."
      ]
    },
    {
      "cell_type": "code",
      "execution_count": 5,
      "metadata": {
        "id": "YEkPH70l6Z-o"
      },
      "outputs": [
        {
          "name": "stdout",
          "output_type": "stream",
          "text": [
            "[2, 3, 5]\n",
            "1 X 1 = 1 ||1 X 2 = 2 ||1 X 3 = 3 ||1 X 4 = 4 ||1 X 5 = 5 ||1 X 6 = 6 ||1 X 7 = 7 ||1 X 8 = 8 ||1 X 9 = 9 ||1 X 10 = 10 ||\n",
            "2 X 1 = 2 ||2 X 2 = 4 ||2 X 3 = 6 ||2 X 4 = 8 ||2 X 5 = 10 ||2 X 6 = 12 ||2 X 7 = 14 ||2 X 8 = 16 ||2 X 9 = 18 ||2 X 10 = 20 ||\n",
            "3 X 1 = 3 ||3 X 2 = 6 ||3 X 3 = 9 ||3 X 4 = 12 ||3 X 5 = 15 ||3 X 6 = 18 ||3 X 7 = 21 ||3 X 8 = 24 ||3 X 9 = 27 ||3 X 10 = 30 ||\n",
            "4 X 1 = 4 ||4 X 2 = 8 ||4 X 3 = 12 ||4 X 4 = 16 ||4 X 5 = 20 ||4 X 6 = 24 ||4 X 7 = 28 ||4 X 8 = 32 ||4 X 9 = 36 ||4 X 10 = 40 ||\n",
            "5 X 1 = 5 ||5 X 2 = 10 ||5 X 3 = 15 ||5 X 4 = 20 ||5 X 5 = 25 ||5 X 6 = 30 ||5 X 7 = 35 ||5 X 8 = 40 ||5 X 9 = 45 ||5 X 10 = 50 ||\n",
            "6 X 1 = 6 ||6 X 2 = 12 ||6 X 3 = 18 ||6 X 4 = 24 ||6 X 5 = 30 ||6 X 6 = 36 ||6 X 7 = 42 ||6 X 8 = 48 ||6 X 9 = 54 ||6 X 10 = 60 ||\n",
            "7 X 1 = 7 ||7 X 2 = 14 ||7 X 3 = 21 ||7 X 4 = 28 ||7 X 5 = 35 ||7 X 6 = 42 ||7 X 7 = 49 ||7 X 8 = 56 ||7 X 9 = 63 ||7 X 10 = 70 ||\n",
            "8 X 1 = 8 ||8 X 2 = 16 ||8 X 3 = 24 ||8 X 4 = 32 ||8 X 5 = 40 ||8 X 6 = 48 ||8 X 7 = 56 ||8 X 8 = 64 ||8 X 9 = 72 ||8 X 10 = 80 ||\n",
            "9 X 1 = 9 ||9 X 2 = 18 ||9 X 3 = 27 ||9 X 4 = 36 ||9 X 5 = 45 ||9 X 6 = 54 ||9 X 7 = 63 ||9 X 8 = 72 ||9 X 9 = 81 ||9 X 10 = 90 ||\n"
          ]
        }
      ],
      "source": [
        "class Computation:\n",
        "\n",
        "  def __init__(self):\n",
        "    pass\n",
        "\n",
        "  def Factorial(self,n):\n",
        "    fact = 1\n",
        "    for i in range(1,n+1):\n",
        "      fact=fact*i\n",
        "    return fact\n",
        "\n",
        "  def naturalSum(self,n):\n",
        "    return n*(n+1)/2\n",
        "\n",
        "  def testPrime(self,n):\n",
        "    flag=True\n",
        "    for i in range(2,n):\n",
        "      if n%i==0:\n",
        "        flag=False\n",
        "        return flag\n",
        "    return flag\n",
        "\n",
        "  def testPrime(self,n):\n",
        "    flag=True\n",
        "    for i in range(2,n):\n",
        "      if n%i==0:\n",
        "        flag=False\n",
        "        return flag\n",
        "    return flag\n",
        "\n",
        "  def testPrims(self, n1,n2):\n",
        "    cnt=0\n",
        "    for i in range(n1+1,n2):\n",
        "      if self.testPrime(i):\n",
        "        cnt+=1\n",
        "    if cnt>=2:\n",
        "      return True\n",
        "    else:\n",
        "      return False\n",
        "\n",
        "  def tableMult(self,n):\n",
        "    [print(f\"{n} X {i} = {n*i} ||\",end='') for i in range(1,11)]\n",
        "    print()\n",
        "\n",
        "  def allTablesMult(self):\n",
        "    for i in range(1,10):\n",
        "      self.tableMult(i)\n",
        "\n",
        "  def listDiv(self,num):\n",
        "    LDiv=[]\n",
        "    for i in range(2,num):\n",
        "      if num%i==0 and self.testPrime(i):\n",
        "        LDiv.append(i)\n",
        "    return LDiv\n",
        "\n",
        "\n",
        "\n",
        "c=Computation()\n",
        "print(c.listDiv(30))\n",
        "c.allTablesMult()"
      ]
    },
    {
      "cell_type": "markdown",
      "metadata": {
        "id": "0yn23_oEriXa"
      },
      "source": [
        "##`Q-4`: Build flashcard using class in Python.\n",
        "\n",
        "Build a flashcard using class in python. A flashcard is a card having information on both sides, which can be used as an aid in memoization. Flashcards usually have a question on one side and an answer on the other.\n",
        "\n",
        "**Example 1:**\n",
        "\n",
        "Approach:\n",
        "\n",
        "- Create a class named FlashCard.\n",
        "- Initialize dictionary fruits using __init__() method. Here you have to define fruit name as key and it's color as value. E.g., {\"Banana\": \"yellow\", \"Strawberries\": \"pink\"}\n",
        "- Now randomly choose a pair from fruits by using _random_ module and store the key in variable _fruit_ and _value_ in variable color.\n",
        "- Now prompt the user to answer the color of the randomly chosen fruit.\n",
        "- If correct print correct else print wrong.\n",
        "\n",
        "Output:\n",
        "```bash\n",
        "welcome to fruit quiz\n",
        "What is the color of Strawberries\n",
        "pink\n",
        "Correct answer\n",
        "Enter 0, if you want to play again: 0\n",
        "What is the color of watermelon\n",
        "green\n",
        "Correct answer\n",
        "Enter 0, if you want to play again: 1\n",
        "```"
      ]
    },
    {
      "cell_type": "code",
      "execution_count": 11,
      "metadata": {
        "id": "vCrUF6VU6l6w"
      },
      "outputs": [
        {
          "name": "stdout",
          "output_type": "stream",
          "text": [
            "welcome to fruit quiz\n",
            "What is the color of Banana\n",
            "Correct answer\n",
            "What is the color of Strawberries\n",
            "Correct answer\n"
          ]
        }
      ],
      "source": [
        "import random\n",
        "class FlashCard:\n",
        "\n",
        "  def __init__(self):\n",
        "    self.fruits = {\"Banana\": \"yellow\", \"Strawberries\": \"pink\"}\n",
        "\n",
        "  def randomFruit(self):\n",
        "    return random.choice(list(self.fruits.keys()))\n",
        "\n",
        "  def quiz(self):\n",
        "    print(\"welcome to fruit quiz\")\n",
        "    flag=0\n",
        "    while flag==0:\n",
        "      f=self.randomFruit()\n",
        "      print(f\"What is the color of {f}\")\n",
        "      inp_fruit = input()\n",
        "      if self.fruits[f]==inp_fruit:\n",
        "        print(\"Correct answer\")\n",
        "      else:\n",
        "        print(\"wrong!!!\")\n",
        "      flag = int(input(\"Enter 0, if you want to play again: \"))\n",
        "\n",
        "flash = FlashCard()\n",
        "flash.quiz()"
      ]
    },
    {
      "cell_type": "markdown",
      "metadata": {
        "id": "GN2r0jbRewYr"
      },
      "source": [
        "## `Q-5:` Problem 5 based on OOP Python.\n",
        "\n",
        "TechWorld, a technology training center, wants to allocate courses for instructors. An instructor is identified by name, technology skills, experience and average feedback. An instructor is allocated a course, if he/she satisfies the below two conditions:\n",
        "- eligibility criteria:\n",
        "    - if experience is more than 3 years, average feedback should be 4.5 or more\n",
        "    - if experience is 3 years or less, average feedback should be 4 or more\n",
        "- he/she should posses the technology skill for the course\n",
        "\n",
        "Identify the class name and attributes to represent instructors. Write a Python program to implement the class chosen with its attributes and methods.\n",
        "\n",
        "**Note:**\n",
        "- Consider all instance variables to be private and methods to be public.\n",
        "- An instructor may have multiple technology skills, so consider instance variable, technology_skill to be a list.\n",
        "- *check_eligibility()*: Return true if eligibility criteria is satisfied by the instructor. Else, return false\n",
        "- *allocate_course(technology)*: Return true if the course which requires the given technology can be allocated to the instructor. Else, return false.\n",
        "\n",
        "Represent a few objects of the class, initialize instance variables using setter methods, invoke\n",
        "appropriate methods and test your program."
      ]
    },
    {
      "cell_type": "code",
      "execution_count": null,
      "metadata": {
        "id": "pdMFuVFnlvKL"
      },
      "outputs": [],
      "source": [
        "# write your code here"
      ]
    }
  ],
  "metadata": {
    "colab": {
      "provenance": []
    },
    "kernelspec": {
      "display_name": "Python 3",
      "name": "python3"
    },
    "language_info": {
      "codemirror_mode": {
        "name": "ipython",
        "version": 3
      },
      "file_extension": ".py",
      "mimetype": "text/x-python",
      "name": "python",
      "nbconvert_exporter": "python",
      "pygments_lexer": "ipython3",
      "version": "3.9.8"
    }
  },
  "nbformat": 4,
  "nbformat_minor": 0
}
